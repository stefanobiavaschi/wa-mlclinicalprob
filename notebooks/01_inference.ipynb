{
 "cells": [
  {
   "cell_type": "code",
   "execution_count": 8,
   "metadata": {},
   "outputs": [],
   "source": [
    "import pandas as pd\n",
    "\n",
    "import pickle\n",
    "import numpy as np\n",
    "\n",
    "import os\n",
    "import sys\n",
    "\n",
    "sys.path.append(os.path.abspath(os.path.join(os.path.dirname(\"notebooks\"), '..')))"
   ]
  },
  {
   "cell_type": "markdown",
   "metadata": {},
   "source": [
    "### Load model from file .pkl saved"
   ]
  },
  {
   "cell_type": "code",
   "execution_count": 10,
   "metadata": {},
   "outputs": [],
   "source": [
    "model_name = \"20240914_pycaret_class_macropat_letteremappate.pkl\""
   ]
  },
  {
   "cell_type": "code",
   "execution_count": 14,
   "metadata": {},
   "outputs": [],
   "source": [
    "with open(f\"/Users/stefanobiavaschi/Desktop/Lavori/wa-mlclinicalprob/models/20240914_pycaret_class_macropat_letteremappate.pkl\", \"rb\") as file:\n",
    "    model_loaded = pickle.load(file)"
   ]
  },
  {
   "cell_type": "code",
   "execution_count": 15,
   "metadata": {},
   "outputs": [],
   "source": [
    "# with open(f\"../models/{model_name}.pkl\", \"rb\") as file:\n",
    "#    model_loaded = pickle.load(file)"
   ]
  },
  {
   "cell_type": "code",
   "execution_count": 18,
   "metadata": {},
   "outputs": [],
   "source": [
    "input_values = ['F',\n",
    " 79,\n",
    " 'Venoso',\n",
    " 89.04761904761904,\n",
    " 18.7,\n",
    " 33.27,\n",
    " 4.1,\n",
    " 12.3,\n",
    " 13.7,\n",
    " 108.0,\n",
    " 0.7,\n",
    " 20.1,\n",
    " 25.8,\n",
    " 44.4,\n",
    " 290.9,\n",
    " 4.4,\n",
    " 142.0,\n",
    " 109.0,\n",
    " 1.0,\n",
    " 0.7,\n",
    " 7.362,\n",
    " 21.4,\n",
    " 0.3,\n",
    " 754.0,\n",
    " 36.0,\n",
    " 21.0,\n",
    " 10,\n",
    " -0.8958392907349089,\n",
    " -0.4443781781046134]"
   ]
  },
  {
   "cell_type": "code",
   "execution_count": 19,
   "metadata": {},
   "outputs": [
    {
     "ename": "KeyError",
     "evalue": "\"None of [Index(['ETA', 'PF', 'PO2_T', 'P50_ACT', 'TO2', 'AG_K', 'THB2', 'GLU', 'LAC',\\n       'PO2', 'PCO2_T', 'MOSM', 'KP', 'NA', 'CL', 'CBASE', 'METHB', 'PH',\\n       'O2HB', 'COHB', 'B', 'TC', 'FIO2', 'sin_day', 'cos_day'],\\n      dtype='object')] are in the [columns]\"",
     "output_type": "error",
     "traceback": [
      "\u001b[0;31m---------------------------------------------------------------------------\u001b[0m",
      "\u001b[0;31mKeyError\u001b[0m                                  Traceback (most recent call last)",
      "Cell \u001b[0;32mIn[19], line 3\u001b[0m\n\u001b[1;32m      1\u001b[0m input_array \u001b[38;5;241m=\u001b[39m np\u001b[38;5;241m.\u001b[39marray(input_values)\u001b[38;5;241m.\u001b[39mreshape(\u001b[38;5;241m1\u001b[39m, \u001b[38;5;241m-\u001b[39m\u001b[38;5;241m1\u001b[39m)\n\u001b[0;32m----> 3\u001b[0m prediction \u001b[38;5;241m=\u001b[39m \u001b[43mmodel_loaded\u001b[49m\u001b[38;5;241;43m.\u001b[39;49m\u001b[43mpredict\u001b[49m\u001b[43m(\u001b[49m\u001b[43minput_array\u001b[49m\u001b[43m)\u001b[49m\n\u001b[1;32m      4\u001b[0m prediction[\u001b[38;5;241m0\u001b[39m]\n",
      "File \u001b[0;32m~/Desktop/Lavori/wa-mlclinicalprob/wa-mlclinicalprob/lib/python3.8/site-packages/pycaret/internal/pipeline.py:325\u001b[0m, in \u001b[0;36mPipeline.predict\u001b[0;34m(self, X, **predict_params)\u001b[0m\n\u001b[1;32m    323\u001b[0m \u001b[38;5;129m@available_if\u001b[39m(_final_estimator_has(\u001b[38;5;124m\"\u001b[39m\u001b[38;5;124mpredict\u001b[39m\u001b[38;5;124m\"\u001b[39m))\n\u001b[1;32m    324\u001b[0m \u001b[38;5;28;01mdef\u001b[39;00m \u001b[38;5;21mpredict\u001b[39m(\u001b[38;5;28mself\u001b[39m, X, \u001b[38;5;241m*\u001b[39m\u001b[38;5;241m*\u001b[39mpredict_params):\n\u001b[0;32m--> 325\u001b[0m     X, _ \u001b[38;5;241m=\u001b[39m \u001b[38;5;28;43mself\u001b[39;49m\u001b[38;5;241;43m.\u001b[39;49m\u001b[43m_memory_full_transform\u001b[49m\u001b[43m(\u001b[49m\u001b[38;5;28;43mself\u001b[39;49m\u001b[43m,\u001b[49m\u001b[43m \u001b[49m\u001b[43mX\u001b[49m\u001b[43m,\u001b[49m\u001b[43m \u001b[49m\u001b[38;5;28;43;01mNone\u001b[39;49;00m\u001b[43m,\u001b[49m\u001b[43m \u001b[49m\u001b[43mwith_final\u001b[49m\u001b[38;5;241;43m=\u001b[39;49m\u001b[38;5;28;43;01mFalse\u001b[39;49;00m\u001b[43m)\u001b[49m\n\u001b[1;32m    327\u001b[0m     y \u001b[38;5;241m=\u001b[39m \u001b[38;5;28mself\u001b[39m\u001b[38;5;241m.\u001b[39msteps[\u001b[38;5;241m-\u001b[39m\u001b[38;5;241m1\u001b[39m][\u001b[38;5;241m-\u001b[39m\u001b[38;5;241m1\u001b[39m]\u001b[38;5;241m.\u001b[39mpredict(X, \u001b[38;5;241m*\u001b[39m\u001b[38;5;241m*\u001b[39mpredict_params)\n\u001b[1;32m    328\u001b[0m     y \u001b[38;5;241m=\u001b[39m \u001b[38;5;28mself\u001b[39m\u001b[38;5;241m.\u001b[39minverse_transform(y)\n",
      "File \u001b[0;32m~/Desktop/Lavori/wa-mlclinicalprob/wa-mlclinicalprob/lib/python3.8/site-packages/joblib/memory.py:312\u001b[0m, in \u001b[0;36mNotMemorizedFunc.__call__\u001b[0;34m(self, *args, **kwargs)\u001b[0m\n\u001b[1;32m    311\u001b[0m \u001b[38;5;28;01mdef\u001b[39;00m \u001b[38;5;21m__call__\u001b[39m(\u001b[38;5;28mself\u001b[39m, \u001b[38;5;241m*\u001b[39margs, \u001b[38;5;241m*\u001b[39m\u001b[38;5;241m*\u001b[39mkwargs):\n\u001b[0;32m--> 312\u001b[0m     \u001b[38;5;28;01mreturn\u001b[39;00m \u001b[38;5;28;43mself\u001b[39;49m\u001b[38;5;241;43m.\u001b[39;49m\u001b[43mfunc\u001b[49m\u001b[43m(\u001b[49m\u001b[38;5;241;43m*\u001b[39;49m\u001b[43margs\u001b[49m\u001b[43m,\u001b[49m\u001b[43m \u001b[49m\u001b[38;5;241;43m*\u001b[39;49m\u001b[38;5;241;43m*\u001b[39;49m\u001b[43mkwargs\u001b[49m\u001b[43m)\u001b[49m\n",
      "File \u001b[0;32m~/Desktop/Lavori/wa-mlclinicalprob/wa-mlclinicalprob/lib/python3.8/site-packages/pycaret/internal/pipeline.py:110\u001b[0m, in \u001b[0;36m_full_transform\u001b[0;34m(pipeline, X, y, **kwargs)\u001b[0m\n\u001b[1;32m    108\u001b[0m \u001b[38;5;28;01mdef\u001b[39;00m \u001b[38;5;21m_full_transform\u001b[39m(pipeline: \u001b[38;5;124m\"\u001b[39m\u001b[38;5;124mPipeline\u001b[39m\u001b[38;5;124m\"\u001b[39m, X, y, \u001b[38;5;241m*\u001b[39m\u001b[38;5;241m*\u001b[39mkwargs):\n\u001b[1;32m    109\u001b[0m     \u001b[38;5;28;01mfor\u001b[39;00m _, _, transformer \u001b[38;5;129;01min\u001b[39;00m pipeline\u001b[38;5;241m.\u001b[39m_iter(\u001b[38;5;241m*\u001b[39m\u001b[38;5;241m*\u001b[39mkwargs):\n\u001b[0;32m--> 110\u001b[0m         X, y \u001b[38;5;241m=\u001b[39m \u001b[43mpipeline\u001b[49m\u001b[38;5;241;43m.\u001b[39;49m\u001b[43m_memory_transform\u001b[49m\u001b[43m(\u001b[49m\u001b[43mtransformer\u001b[49m\u001b[43m,\u001b[49m\u001b[43m \u001b[49m\u001b[43mX\u001b[49m\u001b[43m,\u001b[49m\u001b[43m \u001b[49m\u001b[43my\u001b[49m\u001b[43m)\u001b[49m\n\u001b[1;32m    111\u001b[0m     \u001b[38;5;28;01mreturn\u001b[39;00m X, y\n",
      "File \u001b[0;32m~/Desktop/Lavori/wa-mlclinicalprob/wa-mlclinicalprob/lib/python3.8/site-packages/joblib/memory.py:312\u001b[0m, in \u001b[0;36mNotMemorizedFunc.__call__\u001b[0;34m(self, *args, **kwargs)\u001b[0m\n\u001b[1;32m    311\u001b[0m \u001b[38;5;28;01mdef\u001b[39;00m \u001b[38;5;21m__call__\u001b[39m(\u001b[38;5;28mself\u001b[39m, \u001b[38;5;241m*\u001b[39margs, \u001b[38;5;241m*\u001b[39m\u001b[38;5;241m*\u001b[39mkwargs):\n\u001b[0;32m--> 312\u001b[0m     \u001b[38;5;28;01mreturn\u001b[39;00m \u001b[38;5;28;43mself\u001b[39;49m\u001b[38;5;241;43m.\u001b[39;49m\u001b[43mfunc\u001b[49m\u001b[43m(\u001b[49m\u001b[38;5;241;43m*\u001b[39;49m\u001b[43margs\u001b[49m\u001b[43m,\u001b[49m\u001b[43m \u001b[49m\u001b[38;5;241;43m*\u001b[39;49m\u001b[38;5;241;43m*\u001b[39;49m\u001b[43mkwargs\u001b[49m\u001b[43m)\u001b[49m\n",
      "File \u001b[0;32m~/Desktop/Lavori/wa-mlclinicalprob/wa-mlclinicalprob/lib/python3.8/site-packages/pycaret/internal/pipeline.py:79\u001b[0m, in \u001b[0;36m_transform_one\u001b[0;34m(transformer, X, y)\u001b[0m\n\u001b[1;32m     77\u001b[0m \u001b[38;5;28;01mif\u001b[39;00m \u001b[38;5;124m\"\u001b[39m\u001b[38;5;124my\u001b[39m\u001b[38;5;124m\"\u001b[39m \u001b[38;5;129;01min\u001b[39;00m signature(transformer\u001b[38;5;241m.\u001b[39mtransform)\u001b[38;5;241m.\u001b[39mparameters:\n\u001b[1;32m     78\u001b[0m     args\u001b[38;5;241m.\u001b[39mappend(y)\n\u001b[0;32m---> 79\u001b[0m output \u001b[38;5;241m=\u001b[39m \u001b[43mtransformer\u001b[49m\u001b[38;5;241;43m.\u001b[39;49m\u001b[43mtransform\u001b[49m\u001b[43m(\u001b[49m\u001b[38;5;241;43m*\u001b[39;49m\u001b[43margs\u001b[49m\u001b[43m)\u001b[49m\n\u001b[1;32m     81\u001b[0m \u001b[38;5;28;01mif\u001b[39;00m \u001b[38;5;28misinstance\u001b[39m(output, \u001b[38;5;28mtuple\u001b[39m):\n\u001b[1;32m     82\u001b[0m     X, y \u001b[38;5;241m=\u001b[39m output[\u001b[38;5;241m0\u001b[39m], output[\u001b[38;5;241m1\u001b[39m]\n",
      "File \u001b[0;32m~/Desktop/Lavori/wa-mlclinicalprob/wa-mlclinicalprob/lib/python3.8/site-packages/sklearn/utils/_set_output.py:140\u001b[0m, in \u001b[0;36m_wrap_method_output.<locals>.wrapped\u001b[0;34m(self, X, *args, **kwargs)\u001b[0m\n\u001b[1;32m    138\u001b[0m \u001b[38;5;129m@wraps\u001b[39m(f)\n\u001b[1;32m    139\u001b[0m \u001b[38;5;28;01mdef\u001b[39;00m \u001b[38;5;21mwrapped\u001b[39m(\u001b[38;5;28mself\u001b[39m, X, \u001b[38;5;241m*\u001b[39margs, \u001b[38;5;241m*\u001b[39m\u001b[38;5;241m*\u001b[39mkwargs):\n\u001b[0;32m--> 140\u001b[0m     data_to_wrap \u001b[38;5;241m=\u001b[39m \u001b[43mf\u001b[49m\u001b[43m(\u001b[49m\u001b[38;5;28;43mself\u001b[39;49m\u001b[43m,\u001b[49m\u001b[43m \u001b[49m\u001b[43mX\u001b[49m\u001b[43m,\u001b[49m\u001b[43m \u001b[49m\u001b[38;5;241;43m*\u001b[39;49m\u001b[43margs\u001b[49m\u001b[43m,\u001b[49m\u001b[43m \u001b[49m\u001b[38;5;241;43m*\u001b[39;49m\u001b[38;5;241;43m*\u001b[39;49m\u001b[43mkwargs\u001b[49m\u001b[43m)\u001b[49m\n\u001b[1;32m    141\u001b[0m     \u001b[38;5;28;01mif\u001b[39;00m \u001b[38;5;28misinstance\u001b[39m(data_to_wrap, \u001b[38;5;28mtuple\u001b[39m):\n\u001b[1;32m    142\u001b[0m         \u001b[38;5;66;03m# only wrap the first output for cross decomposition\u001b[39;00m\n\u001b[1;32m    143\u001b[0m         \u001b[38;5;28;01mreturn\u001b[39;00m (\n\u001b[1;32m    144\u001b[0m             _wrap_data_with_container(method, data_to_wrap[\u001b[38;5;241m0\u001b[39m], X, \u001b[38;5;28mself\u001b[39m),\n\u001b[1;32m    145\u001b[0m             \u001b[38;5;241m*\u001b[39mdata_to_wrap[\u001b[38;5;241m1\u001b[39m:],\n\u001b[1;32m    146\u001b[0m         )\n",
      "File \u001b[0;32m~/Desktop/Lavori/wa-mlclinicalprob/wa-mlclinicalprob/lib/python3.8/site-packages/pycaret/internal/preprocess/transformers.py:248\u001b[0m, in \u001b[0;36mTransformerWrapper.transform\u001b[0;34m(self, X, y)\u001b[0m\n\u001b[1;32m    246\u001b[0m     \u001b[38;5;28;01melse\u001b[39;00m:\n\u001b[1;32m    247\u001b[0m         \u001b[38;5;28;01mreturn\u001b[39;00m variable_return(X, y)\n\u001b[0;32m--> 248\u001b[0m     args\u001b[38;5;241m.\u001b[39mappend(\u001b[43mX\u001b[49m\u001b[43m[\u001b[49m\u001b[38;5;28;43mself\u001b[39;49m\u001b[38;5;241;43m.\u001b[39;49m\u001b[43m_include\u001b[49m\u001b[43m]\u001b[49m)\n\u001b[1;32m    249\u001b[0m \u001b[38;5;28;01mif\u001b[39;00m \u001b[38;5;124m\"\u001b[39m\u001b[38;5;124my\u001b[39m\u001b[38;5;124m\"\u001b[39m \u001b[38;5;129;01min\u001b[39;00m transform_params:\n\u001b[1;32m    250\u001b[0m     \u001b[38;5;28;01mif\u001b[39;00m y \u001b[38;5;129;01mis\u001b[39;00m \u001b[38;5;129;01mnot\u001b[39;00m \u001b[38;5;28;01mNone\u001b[39;00m:\n",
      "File \u001b[0;32m~/Desktop/Lavori/wa-mlclinicalprob/wa-mlclinicalprob/lib/python3.8/site-packages/pandas/core/frame.py:3767\u001b[0m, in \u001b[0;36m__getitem__\u001b[0;34m(self, key)\u001b[0m\n\u001b[1;32m   3763\u001b[0m if is_hashable(key) and not is_iterator(key):\n\u001b[1;32m   3764\u001b[0m     # is_iterator to exclude generator e.g. test_getitem_listlike\n\u001b[1;32m   3765\u001b[0m     # shortcut if the key is in columns\n\u001b[1;32m   3766\u001b[0m     is_mi = isinstance(self.columns, MultiIndex)\n\u001b[0;32m-> 3767\u001b[0m     # GH#45316 Return view if key is not duplicated\n\u001b[1;32m   3768\u001b[0m     # Only use drop_duplicates with duplicates for performance\n\u001b[1;32m   3769\u001b[0m     if not is_mi and (\n\u001b[1;32m   3770\u001b[0m         self.columns.is_unique\n\u001b[1;32m   3771\u001b[0m         and key in self.columns\n\u001b[1;32m   3772\u001b[0m         or key in self.columns.drop_duplicates(keep=False)\n\u001b[1;32m   3773\u001b[0m     ):\n\u001b[1;32m   3774\u001b[0m         return self._get_item_cache(key)\n",
      "File \u001b[0;32m~/Desktop/Lavori/wa-mlclinicalprob/wa-mlclinicalprob/lib/python3.8/site-packages/pandas/core/indexes/base.py:5877\u001b[0m, in \u001b[0;36m_get_indexer_strict\u001b[0;34m(self, key, axis_name)\u001b[0m\n\u001b[1;32m   5843\u001b[0m \u001b[38;5;28;01mdef\u001b[39;00m \u001b[38;5;21margsort\u001b[39m(\u001b[38;5;28mself\u001b[39m, \u001b[38;5;241m*\u001b[39margs, \u001b[38;5;241m*\u001b[39m\u001b[38;5;241m*\u001b[39mkwargs) \u001b[38;5;241m-\u001b[39m\u001b[38;5;241m>\u001b[39m npt\u001b[38;5;241m.\u001b[39mNDArray[np\u001b[38;5;241m.\u001b[39mintp]:\n\u001b[1;32m   5844\u001b[0m \u001b[38;5;250m    \u001b[39m\u001b[38;5;124;03m\"\"\"\u001b[39;00m\n\u001b[1;32m   5845\u001b[0m \u001b[38;5;124;03m    Return the integer indices that would sort the index.\u001b[39;00m\n\u001b[1;32m   5846\u001b[0m \n\u001b[1;32m   5847\u001b[0m \u001b[38;5;124;03m    Parameters\u001b[39;00m\n\u001b[1;32m   5848\u001b[0m \u001b[38;5;124;03m    ----------\u001b[39;00m\n\u001b[1;32m   5849\u001b[0m \u001b[38;5;124;03m    *args\u001b[39;00m\n\u001b[1;32m   5850\u001b[0m \u001b[38;5;124;03m        Passed to `numpy.ndarray.argsort`.\u001b[39;00m\n\u001b[1;32m   5851\u001b[0m \u001b[38;5;124;03m    **kwargs\u001b[39;00m\n\u001b[1;32m   5852\u001b[0m \u001b[38;5;124;03m        Passed to `numpy.ndarray.argsort`.\u001b[39;00m\n\u001b[1;32m   5853\u001b[0m \n\u001b[1;32m   5854\u001b[0m \u001b[38;5;124;03m    Returns\u001b[39;00m\n\u001b[1;32m   5855\u001b[0m \u001b[38;5;124;03m    -------\u001b[39;00m\n\u001b[1;32m   5856\u001b[0m \u001b[38;5;124;03m    np.ndarray[np.intp]\u001b[39;00m\n\u001b[1;32m   5857\u001b[0m \u001b[38;5;124;03m        Integer indices that would sort the index if used as\u001b[39;00m\n\u001b[1;32m   5858\u001b[0m \u001b[38;5;124;03m        an indexer.\u001b[39;00m\n\u001b[1;32m   5859\u001b[0m \n\u001b[1;32m   5860\u001b[0m \u001b[38;5;124;03m    See Also\u001b[39;00m\n\u001b[1;32m   5861\u001b[0m \u001b[38;5;124;03m    --------\u001b[39;00m\n\u001b[1;32m   5862\u001b[0m \u001b[38;5;124;03m    numpy.argsort : Similar method for NumPy arrays.\u001b[39;00m\n\u001b[1;32m   5863\u001b[0m \u001b[38;5;124;03m    Index.sort_values : Return sorted copy of Index.\u001b[39;00m\n\u001b[1;32m   5864\u001b[0m \n\u001b[1;32m   5865\u001b[0m \u001b[38;5;124;03m    Examples\u001b[39;00m\n\u001b[1;32m   5866\u001b[0m \u001b[38;5;124;03m    --------\u001b[39;00m\n\u001b[1;32m   5867\u001b[0m \u001b[38;5;124;03m    >>> idx = pd.Index(['b', 'a', 'd', 'c'])\u001b[39;00m\n\u001b[1;32m   5868\u001b[0m \u001b[38;5;124;03m    >>> idx\u001b[39;00m\n\u001b[1;32m   5869\u001b[0m \u001b[38;5;124;03m    Index(['b', 'a', 'd', 'c'], dtype='object')\u001b[39;00m\n\u001b[1;32m   5870\u001b[0m \n\u001b[1;32m   5871\u001b[0m \u001b[38;5;124;03m    >>> order = idx.argsort()\u001b[39;00m\n\u001b[1;32m   5872\u001b[0m \u001b[38;5;124;03m    >>> order\u001b[39;00m\n\u001b[1;32m   5873\u001b[0m \u001b[38;5;124;03m    array([1, 0, 3, 2])\u001b[39;00m\n\u001b[1;32m   5874\u001b[0m \n\u001b[1;32m   5875\u001b[0m \u001b[38;5;124;03m    >>> idx[order]\u001b[39;00m\n\u001b[1;32m   5876\u001b[0m \u001b[38;5;124;03m    Index(['a', 'b', 'c', 'd'], dtype='object')\u001b[39;00m\n\u001b[0;32m-> 5877\u001b[0m \u001b[38;5;124;03m    \"\"\"\u001b[39;00m\n\u001b[1;32m   5878\u001b[0m     \u001b[38;5;66;03m# This works for either ndarray or EA, is overridden\u001b[39;00m\n\u001b[1;32m   5879\u001b[0m     \u001b[38;5;66;03m#  by RangeIndex, MultIIndex\u001b[39;00m\n\u001b[1;32m   5880\u001b[0m     \u001b[38;5;28;01mreturn\u001b[39;00m \u001b[38;5;28mself\u001b[39m\u001b[38;5;241m.\u001b[39m_data\u001b[38;5;241m.\u001b[39margsort(\u001b[38;5;241m*\u001b[39margs, \u001b[38;5;241m*\u001b[39m\u001b[38;5;241m*\u001b[39mkwargs)\n",
      "File \u001b[0;32m~/Desktop/Lavori/wa-mlclinicalprob/wa-mlclinicalprob/lib/python3.8/site-packages/pandas/core/indexes/base.py:5938\u001b[0m, in \u001b[0;36m_raise_if_missing\u001b[0;34m(self, key, indexer, axis_name)\u001b[0m\n\u001b[1;32m   5934\u001b[0m \u001b[38;5;28;01mdef\u001b[39;00m \u001b[38;5;21m_get_values_for_loc\u001b[39m(\u001b[38;5;28mself\u001b[39m, series: Series, loc, key):\n\u001b[1;32m   5935\u001b[0m \u001b[38;5;250m    \u001b[39m\u001b[38;5;124;03m\"\"\"\u001b[39;00m\n\u001b[1;32m   5936\u001b[0m \u001b[38;5;124;03m    Do a positional lookup on the given Series, returning either a scalar\u001b[39;00m\n\u001b[1;32m   5937\u001b[0m \u001b[38;5;124;03m    or a Series.\u001b[39;00m\n\u001b[0;32m-> 5938\u001b[0m \n\u001b[1;32m   5939\u001b[0m \u001b[38;5;124;03m    Assumes that `series.index is self`\u001b[39;00m\n\u001b[1;32m   5940\u001b[0m \n\u001b[1;32m   5941\u001b[0m \u001b[38;5;124;03m    key is included for MultiIndex compat.\u001b[39;00m\n\u001b[1;32m   5942\u001b[0m \u001b[38;5;124;03m    \"\"\"\u001b[39;00m\n\u001b[1;32m   5943\u001b[0m     \u001b[38;5;28;01mif\u001b[39;00m is_integer(loc):\n\u001b[1;32m   5944\u001b[0m         \u001b[38;5;28;01mreturn\u001b[39;00m series\u001b[38;5;241m.\u001b[39m_values[loc]\n",
      "\u001b[0;31mKeyError\u001b[0m: \"None of [Index(['ETA', 'PF', 'PO2_T', 'P50_ACT', 'TO2', 'AG_K', 'THB2', 'GLU', 'LAC',\\n       'PO2', 'PCO2_T', 'MOSM', 'KP', 'NA', 'CL', 'CBASE', 'METHB', 'PH',\\n       'O2HB', 'COHB', 'B', 'TC', 'FIO2', 'sin_day', 'cos_day'],\\n      dtype='object')] are in the [columns]\""
     ]
    }
   ],
   "source": [
    "input_array = np.array(input_values).reshape(1, -1)\n",
    "\n",
    "prediction = model_loaded.predict(input_array)\n",
    "prediction[0]"
   ]
  },
  {
   "cell_type": "code",
   "execution_count": 10,
   "metadata": {},
   "outputs": [],
   "source": [
    "# Definisci i nomi delle colonne attesi dal modello\n",
    "colonne = ['SESSO', 'ETA', 'PO2_T', 'P50_ACT', 'TO2', 'PO21', 'SO21', 'HCT', 'AG_K', 'THB', 'THB2', 'GLU', 'LAC', \n",
    "           'HCO3', 'PCO2_T', 'PCO2', 'MOSM', 'KP', 'NA', 'CL', 'CBASE', 'METHB', 'PHT', 'PH', 'O2HB', 'COHB', \n",
    "           'RHB', 'B', 'TC', 'FIO2', 'P50_ST']\n",
    "\n",
    "# Crea un DataFrame con i tuoi dati\n",
    "dati = pd.DataFrame([['M', 43, 24.6, 29.29, 9.5, 26.4, 43.3, 49.2, 12.4, 16.1, 16.1, 132.0, 3.4, 26.4, 48.9, 51.3, \n",
    "                      291.1, 3.6, 142.0, 107.0, 1.2, 1.0, 7.347, 7.332, 42.1, 1.7, 55.2, 741.0, 36.0, 21.0, 26.85]], \n",
    "                     columns=colonne)\n",
    "\n",
    "dati['ETA'] = dati['ETA'].astype(np.int32)"
   ]
  }
 ],
 "metadata": {
  "kernelspec": {
   "display_name": "Python 3",
   "language": "python",
   "name": "python3"
  },
  "language_info": {
   "codemirror_mode": {
    "name": "ipython",
    "version": 3
   },
   "file_extension": ".py",
   "mimetype": "text/x-python",
   "name": "python",
   "nbconvert_exporter": "python",
   "pygments_lexer": "ipython3",
   "version": "3.8.10"
  }
 },
 "nbformat": 4,
 "nbformat_minor": 2
}
